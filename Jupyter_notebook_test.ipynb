{
 "cells": [
  {
   "cell_type": "markdown",
   "source": [
    "# CAMBAM Workshop: Exploring Single Neuron Excitability with Mathematical and Computational Models\n",
    "\n",
    "## Importing required packages in Jupyter notebooks\n",
    "\n",
    "To run a selected cell:  <kbd>Ctrl</kbd> + <kbd>Enter</kbd>\n",
    "To run a cell and to advance to the next cell:  <kbd>Shift</kbd> + <kbd>Enter</kbd>"
   ],
   "metadata": {
    "collapsed": false
   }
  },
  {
   "cell_type": "code",
   "execution_count": 4,
   "outputs": [
    {
     "name": "stdout",
     "output_type": "stream",
     "text": [
      "All required packages are imported\n"
     ]
    }
   ],
   "source": [
    "import matplotlib.pyplot as plt\n",
    "import numpy as np\n",
    "import scipy\n",
    "import brian2\n",
    "import pygad\n",
    "import efel\n",
    "print('All required packages are imported')"
   ],
   "metadata": {
    "collapsed": false,
    "ExecuteTime": {
     "end_time": "2023-06-13T19:05:20.766602800Z",
     "start_time": "2023-06-13T19:05:20.755584Z"
    }
   }
  }
 ],
 "metadata": {
  "kernelspec": {
   "display_name": "Python 3",
   "language": "python",
   "name": "python3"
  },
  "language_info": {
   "codemirror_mode": {
    "name": "ipython",
    "version": 2
   },
   "file_extension": ".py",
   "mimetype": "text/x-python",
   "name": "python",
   "nbconvert_exporter": "python",
   "pygments_lexer": "ipython2",
   "version": "2.7.6"
  }
 },
 "nbformat": 4,
 "nbformat_minor": 0
}
