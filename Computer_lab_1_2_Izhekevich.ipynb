{
 "cells": [
  {
   "cell_type": "markdown",
   "metadata": {},
   "source": [
    "# Exploring Single Neuron Excitability with Mathematical and Computational Models Computer Lab 1\n",
    " ## Data, Feature extraction and Izhekevich models\n",
    "##### Nils Koch and Niklas Brake\n",
    "\n",
    "Izhekevich model implementation and tuning by hand"
   ]
  },
  {
   "cell_type": "markdown",
   "source": [
    "# 3. Izhekevich Model\n",
    "\n",
    "$$ dV_m/dt = 0.04 V_m^2 + 5 V_m + 140 - u + I $$\n",
    "$$ du/dt = a (b V_m - u)$$\n",
    "if $Vm≥Vth$: then $V_m \\leftarrow c$, $u \\leftarrow u + d$"
   ],
   "metadata": {
    "collapsed": false
   }
  },
  {
   "cell_type": "markdown",
   "source": [
    "| Variable | Units   | Description                               |\n",
    "|----------|---------|-------------------------------------------|\n",
    "| $V_m$    | mV      | Membrane potential                        |\n",
    "| $U_m$    | mV      | Membrane potential recovery variable      |\n",
    "| $V_{th}$ | mV      | Spike threshold                           |\n",
    "| $I_e$    | nA      | Constant input current (R=1)              |\n",
    "| a        | real    | Describes time scale of recovery variable |\n",
    "| b        | real    | Sensitivity of recovery variable          |\n",
    "| c        | mV      | After-spike reset value of $V_m$          |\n",
    "| d        | mV      | After-spike reset value of $U_m$          |"
   ],
   "metadata": {
    "collapsed": false
   }
  },
  {
   "cell_type": "markdown",
   "source": [
    "# 4. Assignment: Use Forward Euler method to simulate the Izhekevich model [NB]"
   ],
   "metadata": {
    "collapsed": false
   }
  },
  {
   "cell_type": "markdown",
   "source": [],
   "metadata": {
    "collapsed": false
   }
  },
  {
   "cell_type": "code",
   "execution_count": null,
   "outputs": [],
   "source": [],
   "metadata": {
    "collapsed": false
   }
  },
  {
   "cell_type": "code",
   "execution_count": null,
   "outputs": [],
   "source": [],
   "metadata": {
    "collapsed": false
   }
  },
  {
   "cell_type": "markdown",
   "source": [
    "# 5. Assignment: Fit the parameters of your Izhekevich model (a,b,c,d) to fit this spike train [NB]"
   ],
   "metadata": {
    "collapsed": false
   }
  },
  {
   "cell_type": "code",
   "execution_count": null,
   "outputs": [],
   "source": [],
   "metadata": {
    "collapsed": false
   }
  }
 ],
 "metadata": {
  "kernelspec": {
   "display_name": "Python 3 (ipykernel)",
   "language": "python",
   "name": "python3"
  },
  "language_info": {
   "codemirror_mode": {
    "name": "ipython",
    "version": 3
   },
   "file_extension": ".py",
   "mimetype": "text/x-python",
   "name": "python",
   "nbconvert_exporter": "python",
   "pygments_lexer": "ipython3",
   "version": "3.9.6"
  }
 },
 "nbformat": 4,
 "nbformat_minor": 1
}
