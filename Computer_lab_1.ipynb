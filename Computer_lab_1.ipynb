{
 "cells": [
  {
   "cell_type": "markdown",
   "metadata": {},
   "source": [
    "# Exploring Single Neuron Excitability with Mathematical and Computational Models Computer Lab 1\n",
    " ## Data, Feature extraction and Izhekevich models\n",
    "##### Nils Koch and Niklas Brake\n",
    "\n",
    "Overview of openly accessible electrophysiological data, feature extraction. Izhekevich model implementation and tuning by hand"
   ]
  },
  {
   "cell_type": "markdown",
   "source": [
    "# 1. Openly accessible electrophysiology repositories and accessing data"
   ],
   "metadata": {
    "collapsed": false
   }
  },
  {
   "cell_type": "markdown",
   "source": [
    "## Blue Brain Project\n",
    "\n",
    "EPFL's Blue Brain Project is a Swiss brain research initiative aimed at establishing simulation euroscience as a complementary approach alongside experimental, theoretical and clinical neuroscience to understanding the brain, by building the world’s first biologically detailed digital reconstructions and simulations of the mouse brain.\n",
    "\n",
    "Openly Accessible data available for download: [Neuronal-electrical data](https://portal.bluebrain.epfl.ch/resources/data/neuronal-electrical/)\n",
    "\n",
    "Available models: [Blue Brain Project Models](https://portal.bluebrain.epfl.ch/resources/models/)\n",
    "\n",
    "Available software: [Blue Brain Software Suites](https://portal.bluebrain.epfl.ch/resources/software/)\n",
    "\n",
    "Resource for ion channel properties: [Channelpedia](https://channelpedia.epfl.ch/)"
   ],
   "metadata": {
    "collapsed": false
   }
  },
  {
   "cell_type": "markdown",
   "source": [
    "## Allen Brain Institute\n",
    "\n",
    "The Allen Institute for Brain Science is focused on understanding the complexities of the brain by mapping its cells and cell types with unprecedented precision and scale.\n",
    "\n",
    "Cell types, Atlases, Gene expression and more: [Allen Brain Map](https://portal.brain-map.org/)\n",
    "\n",
    "Electrophysiology: DANDI Archive\n"
   ],
   "metadata": {
    "collapsed": false
   }
  },
  {
   "cell_type": "markdown",
   "source": [
    "## How do you use these datasets?\n",
    "\n",
    "### 1. Download the data\n",
    "\n",
    "\n",
    "### 2. The Distributed Archives for Neurophysiology Data Integration (DANDI) Archive\n",
    "The BRAIN Initiative archive for publishing and sharing neurophysiology data including electrophysiology, optophysiology, and behavioral time-series, and images from immunostaining experiments\n",
    "\n",
    "[DANDI Archive](https://dandiarchive.org/)\n",
    "[DANDI Documentation and Handbook](https://www.dandiarchive.org/handbook/)\n",
    "\n",
    "## Today: stream data from DANDI"
   ],
   "metadata": {
    "collapsed": false
   }
  },
  {
   "cell_type": "markdown",
   "source": [
    "Get url for a particular NWB file in and Dandiset"
   ],
   "metadata": {
    "collapsed": false
   }
  },
  {
   "cell_type": "code",
   "execution_count": null,
   "outputs": [],
   "source": [
    "!pip install dandi\n",
    "!pip install fsspec requests aiohttp"
   ],
   "metadata": {
    "collapsed": false
   }
  },
  {
   "cell_type": "code",
   "execution_count": 6,
   "outputs": [
    {
     "name": "stderr",
     "output_type": "stream",
     "text": [
      "A newer version (0.54.0) of dandi/dandi-cli is available. You are using 0.51.0\n"
     ]
    },
    {
     "name": "stdout",
     "output_type": "stream",
     "text": [
      "https://dandiarchive.s3.amazonaws.com/blobs/43b/f3a/43bf3a81-4a0b-433f-b471-1f10303f9d35\n"
     ]
    }
   ],
   "source": [
    "from dandi.dandiapi import DandiAPIClient\n",
    "import dandi\n",
    "from dandi.dandiarchive import parse_dandi_url\n",
    "import matplotlib.pyplot as plt\n",
    "import numpy as np\n",
    "import fsspec\n",
    "import pynwb\n",
    "import h5py\n",
    "from fsspec.implementations.cached import CachingFileSystem\n",
    "\n",
    "dandiset_id = '000020'  # ephys dataset from the Svoboda Lab\n",
    "filepath = 'sub-anm372795/sub-anm372795_ses-20170718.nwb'  # 450 kB file\n",
    "with DandiAPIClient() as client:\n",
    "    asset = client.get_dandiset(dandiset_id, 'draft').get_asset_by_path(filepath)\n",
    "    s3_url = asset.get_content_url(follow_redirects=1, strip_query=True)\n",
    "print(s3_url)"
   ],
   "metadata": {
    "collapsed": false,
    "ExecuteTime": {
     "end_time": "2023-05-11T01:39:10.019652300Z",
     "start_time": "2023-05-11T01:39:08.085561900Z"
    }
   }
  },
  {
   "cell_type": "code",
   "execution_count": 12,
   "outputs": [],
   "source": [
    "dandiset_id = '000020'  # Patch-seq recordings from mouse visual cortex Gouwens et al. 2021 https://doi.org/10.1016/j.cell.2020.09.057\n",
    "t = parse_dandi_url('https://api.dandiarchive.org/api/dandisets/{}/'.format(dandiset_id))\n",
    "c = t.get_client()\n",
    "d_set = t.get_dandiset(client=c,lazy=True)\n",
    "\n",
    "# get all file in the dandiset\n",
    "assets = d_set.get_assets()\n",
    "asset_list = [i for i in assets]\n",
    "\n",
    "# select the first file\n",
    "filepath = asset_list[0].path\n",
    "\n",
    "# get the url for streaming\n",
    "with DandiAPIClient() as client:\n",
    "    asset = client.get_dandiset(dandiset_id, 'draft').get_asset_by_path(filepath)\n",
    "    s3_url = asset.get_content_url(follow_redirects=1, strip_query=True)\n",
    "\n",
    "\n",
    "# create a virtual filesystem based on the http protocol and use caching to save accessed data to RAM.\n",
    "fs = CachingFileSystem(\n",
    "    fs=fsspec.filesystem(\"http\"),\n",
    "    cache_storage=\"nwb-cache\",  # Local folder for the cache\n",
    ")"
   ],
   "metadata": {
    "collapsed": false,
    "ExecuteTime": {
     "end_time": "2023-05-11T01:45:21.743866500Z",
     "start_time": "2023-05-11T01:45:16.477096100Z"
    }
   }
  },
  {
   "cell_type": "markdown",
   "source": [
    "Open the file and see what Allen Brain Protocols were run\n",
    "\n",
    "[Allen Brain Protocol Descriptions](http://help.brain-map.org/download/attachments/8323525/CellTypes_Ephys_Overview.pdf?version=2&modificationDate=1508180425883&api=v2)"
   ],
   "metadata": {
    "collapsed": false
   }
  },
  {
   "cell_type": "code",
   "execution_count": 52,
   "outputs": [
    {
     "name": "stdout",
     "output_type": "stream",
     "text": [
      "['EXTPBREAKN180424_DA_0' 'EXTPCllATT180424_DA_0' 'EXTPEXPEND180424_DA_0'\n",
      " 'EXTPGGAEND180424_DA_0' 'EXTPINBATH180424_DA_0' 'EXTPSMOKET180424_DA_0'\n",
      " 'X1PS_SubThresh_DA_0' 'X2LP_Search_DA_0' 'X3LP_Rheo_DA_0'\n",
      " 'X4PS_SupraThresh_DA_0' 'X5SP_Search_DA_0' 'X6SP_Rheo_DA_0' 'X7Ramp_DA_0']\n"
     ]
    }
   ],
   "source": [
    "with fs.open(s3_url, \"rb\") as f:\n",
    "    with h5py.File(f) as file:\n",
    "        with pynwb.NWBHDF5IO(file=file, load_namespaces=True) as io:\n",
    "            nwbfile = io.read() # required to open file\n",
    "\n",
    "            # get list of sweeps\n",
    "            sweep_list = [i for i in nwbfile.stimulus.keys()]\n",
    "            acq_list =[i for i in nwbfile.acquisition.keys()] # should match sweep_list\n",
    "\n",
    "            # get description/protocol for every sweeep\n",
    "            stim_descrip = []\n",
    "            for s in sweep_list:\n",
    "                stim_descrip.append(nwbfile.stimulus.get(s).stimulus_description)\n",
    "\n",
    "            # convert lists to arrays\n",
    "            Stim_descript = np.array(stim_descrip)\n",
    "            sweep_list_array = np.array(sweep_list)\n",
    "\n",
    "            protocols = np.unique(stim_descrip) # find unique protocol labels\n",
    "            protocol_sweeps = {} # dictionary with protocol: sweeps in protocol pairing\n",
    "            protocol_sweeps_ids = {}  # dictionary with protocol: sweeps in protocol pairing\n",
    "            for i in range(0, len(protocols)):\n",
    "                protocol_sweeps[protocols[i]] = sweep_list_array[(Stim_descript == protocols[i])]\n",
    "                protocol_sweeps_ids[protocols[i]] = np.argwhere(Stim_descript == protocols[i])\n",
    "print(protocols)"
   ],
   "metadata": {
    "collapsed": false,
    "ExecuteTime": {
     "end_time": "2023-05-11T02:45:28.186314200Z",
     "start_time": "2023-05-11T02:45:24.002381800Z"
    }
   }
  },
  {
   "cell_type": "markdown",
   "source": [
    "Open and plot all sweeps for protocol 'X4PS_SupraThresh_DA_0'"
   ],
   "metadata": {
    "collapsed": false
   }
  },
  {
   "cell_type": "code",
   "execution_count": 76,
   "outputs": [
    {
     "data": {
      "text/plain": "<Figure size 640x480 with 2 Axes>",
      "image/png": "[encoded data removed]"
     },
     "metadata": {},
     "output_type": "display_data"
    }
   ],
   "source": [
    "desired_protocol = 'X4PS_SupraThresh_DA_0'\n",
    "fig, axs = plt.subplots(2,1)\n",
    "with fs.open(s3_url, \"rb\") as f:\n",
    "    with h5py.File(f) as file:\n",
    "        with pynwb.NWBHDF5IO(file=file, load_namespaces=True) as io:\n",
    "            nwbfile = io.read() # required to open file\n",
    "            p_sweeps_ind = protocol_sweeps_ids[desired_protocol] # indices of sweeps belonging to protocol\n",
    "            for sweep in p_sweeps_ind: #for each sweep in protocol\n",
    "                num_samples = nwbfile.stimulus.get(sweep_list[sweep[0]]).num_samples # length of sweep\n",
    "                samp_rate = nwbfile.stimulus.get(sweep_list[sweep[0]]).rate # sample rate\n",
    "\n",
    "                # get time, voltage and current input of the sweep\n",
    "                t = np.arange(0, num_samples, 1) * (1 / samp_rate)\n",
    "                V = nwbfile.acquisition.get(acq_list[sweep[0]]).data[:]\n",
    "                I = nwbfile.stimulus.get(sweep_list[sweep[0]]).data[:]\n",
    "\n",
    "                # plot the voltage traces and current inputs for the sweep\n",
    "                axs[0].plot(t, V)\n",
    "                axs[1].plot(t, I)\n",
    "\n",
    "# label plot and set x limits\n",
    "xlim = (0.4, 1.8)\n",
    "axs[0].set_xlim(xlim)\n",
    "axs[0].set_ylabel('Membrane Potential (mV)')\n",
    "axs[1].set_xlim(xlim)\n",
    "axs[1].set_ylabel('Current input (nA)')\n",
    "axs[1].set_xlabel('Time (s)')\n",
    "for ax in axs.reshape(-1):\n",
    "    ax.spines['top'].set_visible(False)\n",
    "    ax.spines['right'].set_visible(False)\n",
    "plt.suptitle('{} protocol'.format(desired_protocol))\n",
    "plt.show()"
   ],
   "metadata": {
    "collapsed": false,
    "ExecuteTime": {
     "end_time": "2023-05-11T03:12:15.144704400Z",
     "start_time": "2023-05-11T03:12:10.569264400Z"
    }
   }
  },
  {
   "cell_type": "markdown",
   "metadata": {},
   "source": [
    "# 2. Electrophysiological Features and Feature Extraction Packages\n",
    "Qualitative features of neuron firing (bursting, spike frequency adaptation, rebound spiking)"
   ]
  },
  {
   "cell_type": "markdown",
   "source": [
    "Extract electrophysiological features using Blue Brain Project [Electrophys Feature Extraction Library eFEL](https://efel.readthedocs.io/en/latest/index.html)\n",
    "\n",
    "Description of all [eFEL features](https://efel.readthedocs.io/en/latest/eFeatures.html)"
   ],
   "metadata": {
    "collapsed": false
   }
  },
  {
   "cell_type": "code",
   "execution_count": 96,
   "outputs": [
    {
     "name": "stdout",
     "output_type": "stream",
     "text": [
      "AP_amplitude\n",
      "[96.15624999 69.76249694 69.53124808 69.20624923 69.16874694 70.03749656\n",
      " 69.89374922 69.66875075 69.37499999 68.29374883 68.00625037 68.9624977\n",
      " 66.66875075 66.49374962 67.05624961 63.03125   ] \n",
      "\n",
      "AP_duration\n",
      "[0.02196 0.02426 0.02282 0.0267  0.02608 0.02472 0.02428 0.02744 0.0284\n",
      " 0.02852 0.0306  0.03186 0.03868 0.03982 0.03802 0.05068] \n",
      "\n",
      "AP_height\n",
      "[24.15624999 21.89374923 22.13749885 21.76874923 22.33124923 22.26249885\n",
      " 22.40624998 21.87499999 21.58124923 21.41250036 20.80624961 20.99999999\n",
      " 19.12499998 19.35000038 19.88749885 16.03125   ] \n",
      "\n",
      "AP_width\n",
      "[0.0005  0.00054 0.00056 0.00054 0.00056 0.00056 0.00054 0.00056 0.00056\n",
      " 0.00056 0.00058 0.00058 0.0006  0.0006  0.0006  0.00068] \n",
      "\n",
      "ISI_CV\n",
      "[0.25136503] \n",
      "\n",
      "ISI_values\n",
      "[0.02428 0.02318 0.02718 0.02578 0.02516 0.02468 0.02734 0.02868 0.02874\n",
      " 0.03084 0.03304 0.03938 0.03978 0.03846 0.05118] \n",
      "\n",
      "Spikecount\n",
      "[16] \n",
      "\n",
      "Spikecount_stimint\n",
      "[16] \n",
      "\n",
      "adaptation_index\n",
      "[0.02626468] \n",
      "\n",
      "adaptation_index2\n",
      "[0.03035417] \n",
      "\n",
      "irregularity_index\n",
      "[0.00244933] \n",
      "\n",
      "mean_frequency\n",
      "[32769.4261254] \n",
      "\n",
      "spike_half_width\n",
      "[0.00041945 0.00045857 0.0004569  0.00045945 0.00045994 0.00045966\n",
      " 0.00045498 0.00046283 0.00046762 0.00047402 0.00048346 0.00048285\n",
      " 0.00051858 0.00051445 0.00049506 0.00057434] \n",
      "\n",
      "spike_width2\n",
      "[0.00030114 0.0002921  0.00030283 0.0002945  0.00029454 0.00028384\n",
      " 0.00029129 0.00029574 0.00031078 0.0003008  0.00029555 0.00031612\n",
      " 0.0003133  0.000297   0.00033237] \n",
      "\n",
      "peak_indices\n",
      "[31028 32242 33401 34760 36049 37307 38541 39908 41342 42779 44321 45973\n",
      " 47942 49931 51854 54413] \n",
      "\n",
      "all_ISI_values\n",
      "[0.02428 0.02318 0.02718 0.02578 0.02516 0.02468 0.02734 0.02868 0.02874\n",
      " 0.03084 0.03304 0.03938 0.03978 0.03846 0.05118] \n",
      "\n"
     ]
    }
   ],
   "source": [
    "import efel\n",
    "efel_feat = efel.getFeatureNames()\n",
    "\n",
    "efel_feat = ['AP_amplitude','AP_duration','AP_height', 'AP_width', 'ISI_CV', 'ISI_values', 'Spikecount', 'Spikecount_stimint',\n",
    " 'adaptation_index', 'adaptation_index2', 'irregularity_index', 'mean_frequency',  'spike_half_width','spike_width2', 'peak_indices','all_ISI_values']\n",
    "\n",
    "trace1 = {} # A 'trace' is a dictionary for input into efel feature extraction\n",
    "desired_sweep = 0\n",
    "with fs.open(s3_url, \"rb\") as f:\n",
    "    with h5py.File(f) as file:\n",
    "        with pynwb.NWBHDF5IO(file=file, load_namespaces=True) as io:\n",
    "            nwbfile = io.read() # required to open file\n",
    "            p_sweeps_ind = protocol_sweeps_ids[desired_protocol] # indices of sweeps belonging to protocol\n",
    "            sweep = p_sweeps_ind[desired_sweep]\n",
    "            num_samples = nwbfile.stimulus.get(sweep_list[sweep[0]]).num_samples # length of sweep\n",
    "            samp_rate = nwbfile.stimulus.get(sweep_list[sweep[0]]).rate # sample rate\n",
    "            t = np.arange(0, num_samples, 1) * (1 / samp_rate)\n",
    "            V = nwbfile.acquisition.get(acq_list[sweep[0]]).data[:]\n",
    "            I = nwbfile.stimulus.get(sweep_list[sweep[0]])\n",
    "            trace1['T'] = t # Set the 'T' (=time) key of the trace\n",
    "            trace1['V'] = V # Set the 'V' (=voltage) key of the trace\n",
    "            trace1['stim_start'] = [0.6] # Set the 'stim_start' (time at which a stimulus starts, in ms) # must be a list (with one element)\n",
    "            trace1['stim_end'] = [1.6] # Set the 'stim_end' (time at which a stimulus end) key of the trace # must be a list (with one element)\n",
    "\n",
    "# Multiple traces can be passed to the eFEL at the same time, so the argument should be a list\n",
    "traces = [trace1]\n",
    "\n",
    "# feature extraction settings\n",
    "efel.api.setThreshold(-20)  # set spike detection threshold\n",
    "efel.setDoubleSetting('interp_step', 1/samp_rate)  # set interpolation step to sampling rate or simulation step size\n",
    "efel.setIntSetting('ignore_first_ISI', 0)\n",
    "\n",
    "# extract features\n",
    "traces_results = efel.getFeatureValues(traces, efel_feat, raise_warnings=False)\n",
    "\n",
    "# print results of efel feature extraction\n",
    "for c in traces_results:\n",
    "    for key in c:\n",
    "        print(key)\n",
    "        print(c[key], \"\\n\")"
   ],
   "metadata": {
    "collapsed": false,
    "ExecuteTime": {
     "end_time": "2023-05-11T03:29:00.698363600Z",
     "start_time": "2023-05-11T03:28:55.638568400Z"
    }
   }
  },
  {
   "cell_type": "markdown",
   "source": [
    "Plot the sweep with detected APs"
   ],
   "metadata": {
    "collapsed": false
   }
  },
  {
   "cell_type": "code",
   "execution_count": 1,
   "outputs": [
    {
     "ename": "NameError",
     "evalue": "name 'plt' is not defined",
     "output_type": "error",
     "traceback": [
      "\u001B[1;31m---------------------------------------------------------------------------\u001B[0m",
      "\u001B[1;31mNameError\u001B[0m                                 Traceback (most recent call last)",
      "\u001B[1;32m~\\AppData\\Local\\Temp\\ipykernel_14524\\2500221494.py\u001B[0m in \u001B[0;36m<module>\u001B[1;34m\u001B[0m\n\u001B[1;32m----> 1\u001B[1;33m \u001B[0mfig\u001B[0m\u001B[1;33m,\u001B[0m \u001B[0maxs\u001B[0m \u001B[1;33m=\u001B[0m \u001B[0mplt\u001B[0m\u001B[1;33m.\u001B[0m\u001B[0msubplots\u001B[0m\u001B[1;33m(\u001B[0m\u001B[1;36m3\u001B[0m\u001B[1;33m,\u001B[0m\u001B[1;36m1\u001B[0m\u001B[1;33m,\u001B[0m \u001B[0mfigsize\u001B[0m\u001B[1;33m=\u001B[0m\u001B[1;33m(\u001B[0m\u001B[1;36m8\u001B[0m\u001B[1;33m,\u001B[0m\u001B[1;36m8\u001B[0m\u001B[1;33m)\u001B[0m\u001B[1;33m)\u001B[0m\u001B[1;33m\u001B[0m\u001B[1;33m\u001B[0m\u001B[0m\n\u001B[0m\u001B[0;32m      2\u001B[0m \u001B[0maxs\u001B[0m\u001B[1;33m[\u001B[0m\u001B[1;36m0\u001B[0m\u001B[1;33m]\u001B[0m\u001B[1;33m.\u001B[0m\u001B[0mplot\u001B[0m\u001B[1;33m(\u001B[0m\u001B[0mt\u001B[0m\u001B[1;33m,\u001B[0m \u001B[0mV\u001B[0m\u001B[1;33m)\u001B[0m \u001B[1;31m# plot voltae trace\u001B[0m\u001B[1;33m\u001B[0m\u001B[1;33m\u001B[0m\u001B[0m\n\u001B[0;32m      3\u001B[0m \u001B[0maxs\u001B[0m\u001B[1;33m[\u001B[0m\u001B[1;36m0\u001B[0m\u001B[1;33m]\u001B[0m\u001B[1;33m.\u001B[0m\u001B[0mplot\u001B[0m\u001B[1;33m(\u001B[0m\u001B[0mt\u001B[0m\u001B[1;33m[\u001B[0m\u001B[0mtraces_results\u001B[0m\u001B[1;33m[\u001B[0m\u001B[1;36m0\u001B[0m\u001B[1;33m]\u001B[0m\u001B[1;33m[\u001B[0m\u001B[1;34m'peak_indices'\u001B[0m\u001B[1;33m]\u001B[0m\u001B[1;33m]\u001B[0m\u001B[1;33m,\u001B[0m \u001B[0mtraces_results\u001B[0m\u001B[1;33m[\u001B[0m\u001B[1;36m0\u001B[0m\u001B[1;33m]\u001B[0m\u001B[1;33m[\u001B[0m\u001B[1;34m'AP_height'\u001B[0m\u001B[1;33m]\u001B[0m\u001B[1;33m,\u001B[0m \u001B[1;34m'.'\u001B[0m\u001B[1;33m)\u001B[0m \u001B[1;31m# plot peaks\u001B[0m\u001B[1;33m\u001B[0m\u001B[1;33m\u001B[0m\u001B[0m\n\u001B[0;32m      4\u001B[0m \u001B[0maxs\u001B[0m\u001B[1;33m[\u001B[0m\u001B[1;36m0\u001B[0m\u001B[1;33m]\u001B[0m\u001B[1;33m.\u001B[0m\u001B[0mset_xlim\u001B[0m\u001B[1;33m(\u001B[0m\u001B[0mxlim\u001B[0m\u001B[1;33m)\u001B[0m\u001B[1;33m\u001B[0m\u001B[1;33m\u001B[0m\u001B[0m\n\u001B[0;32m      5\u001B[0m \u001B[0maxs\u001B[0m\u001B[1;33m[\u001B[0m\u001B[1;36m0\u001B[0m\u001B[1;33m]\u001B[0m\u001B[1;33m.\u001B[0m\u001B[0mset_ylabel\u001B[0m\u001B[1;33m(\u001B[0m\u001B[1;34m'Membrane Potential (mV)'\u001B[0m\u001B[1;33m)\u001B[0m\u001B[1;33m\u001B[0m\u001B[1;33m\u001B[0m\u001B[0m\n",
      "\u001B[1;31mNameError\u001B[0m: name 'plt' is not defined"
     ]
    }
   ],
   "source": [
    "fig, axs = plt.subplots(3,1, figsize=(8,8))\n",
    "axs[0].plot(t, V) # plot voltae trace\n",
    "axs[0].plot(t[traces_results[0]['peak_indices']], traces_results[0]['AP_height'], '.') # plot peaks\n",
    "axs[0].set_xlim(xlim)\n",
    "axs[0].set_ylabel('Membrane Potential (mV)')\n",
    "\n",
    "\n",
    "axs[1].plot(t[traces_results[0]['peak_indices']], traces_results[0]['spike_half_width']*1000, '.') # plot peaks\n",
    "axs[1].set_ylabel('AP half width (ms)')\n",
    "axs[1].set_xlim(xlim)\n",
    "\n",
    "\n",
    "axs[2].step(t[traces_results[0]['peak_indices']][1:], 1/traces_results[0]['all_ISI_values'],'grey', where='pre') # plot voltae trace\n",
    "axs[2].set_xlim(xlim)\n",
    "axs[2].set_ylabel('AP Frequency (Hz)')\n",
    "axs[2].set_xlabel('Time (s)')\n",
    "\n",
    "# remove top and right plot borders\n",
    "for ax in axs.reshape(-1):\n",
    "    ax.spines['top'].set_visible(False)\n",
    "    ax.spines['right'].set_visible(False)\n",
    "plt.show()\n"
   ],
   "metadata": {
    "collapsed": false,
    "ExecuteTime": {
     "end_time": "2023-05-17T02:57:00.871981Z",
     "start_time": "2023-05-17T02:57:00.645961400Z"
    }
   }
  },
  {
   "cell_type": "markdown",
   "source": [
    "Allen Brain Institute Feature extraction?\n",
    "Not sure if this is needed?"
   ],
   "metadata": {
    "collapsed": false
   }
  },
  {
   "cell_type": "code",
   "execution_count": null,
   "outputs": [],
   "source": [],
   "metadata": {
    "collapsed": false
   }
  },
  {
   "cell_type": "markdown",
   "source": [
    "# 3. Izhekevich Model\n",
    "\n",
    "$$ dV_m/dt = 0.04 V_m^2 + 5 V_m + 140 - u + I $$\n",
    "$$ du/dt = a (b V_m - u)$$\n",
    "if $Vm≥Vth$: then $V_m \\leftarrow c$, $u \\leftarrow u + d$"
   ],
   "metadata": {
    "collapsed": false
   }
  },
  {
   "cell_type": "markdown",
   "source": [
    "| Variable | Units   | Description                               |\n",
    "|----------|---------|-------------------------------------------|\n",
    "| $V_m$    | mV      | Membrane potential                        |\n",
    "| $U_m$    | mV      | Membrane potential recovery variable      |\n",
    "| $V_{th}$ | mV      | Spike threshold                           |\n",
    "| $I_e$    | nA      | Constant input current (R=1)              |\n",
    "| a        | real    | Describes time scale of recovery variable |\n",
    "| b        | real    | Sensitivity of recovery variable          |\n",
    "| c        | mV      | After-spike reset value of $V_m$          |\n",
    "| d        | mV      | After-spike reset value of $U_m$          |"
   ],
   "metadata": {
    "collapsed": false
   }
  },
  {
   "cell_type": "markdown",
   "source": [
    "# 4. Assignment: Use Forward Euler method to simulate the Izhekevich model [NB]"
   ],
   "metadata": {
    "collapsed": false
   }
  },
  {
   "cell_type": "code",
   "execution_count": null,
   "outputs": [],
   "source": [],
   "metadata": {
    "collapsed": false
   }
  },
  {
   "cell_type": "markdown",
   "source": [
    "# 5. Assignment: Fit the parameters of your Izhekevich model (a,b,c,d) to fit this spike train [NB]"
   ],
   "metadata": {
    "collapsed": false
   }
  },
  {
   "cell_type": "code",
   "execution_count": null,
   "outputs": [],
   "source": [],
   "metadata": {
    "collapsed": false
   }
  }
 ],
 "metadata": {
  "kernelspec": {
   "display_name": "Python 3 (ipykernel)",
   "language": "python",
   "name": "python3"
  },
  "language_info": {
   "codemirror_mode": {
    "name": "ipython",
    "version": 3
   },
   "file_extension": ".py",
   "mimetype": "text/x-python",
   "name": "python",
   "nbconvert_exporter": "python",
   "pygments_lexer": "ipython3",
   "version": "3.9.6"
  }
 },
 "nbformat": 4,
 "nbformat_minor": 1
}
